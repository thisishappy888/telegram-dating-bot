{
 "cells": [
  {
   "cell_type": "code",
   "execution_count": 9,
   "id": "4a6cc1d2-1a8f-4594-9fe2-e1344faf7c9f",
   "metadata": {},
   "outputs": [],
   "source": [
    "import pandas as pd\n",
    "import sqlite3\n",
    "import os"
   ]
  },
  {
   "cell_type": "code",
   "execution_count": 10,
   "id": "13842a87-5368-4888-8874-c280ca6cc290",
   "metadata": {},
   "outputs": [],
   "source": [
    "if os.path.exists('database.db'):\n",
    "    conn = sqlite3.connect(\"database.db\")\n",
    "\n",
    "df = pd.read_sql_query(\"SELECT * FROM users\", conn)\n",
    "\n",
    "conn.close()"
   ]
  },
  {
   "cell_type": "code",
   "execution_count": 11,
   "id": "c79905a4",
   "metadata": {},
   "outputs": [
    {
     "data": {
      "text/html": [
       "<div>\n",
       "<style scoped>\n",
       "    .dataframe tbody tr th:only-of-type {\n",
       "        vertical-align: middle;\n",
       "    }\n",
       "\n",
       "    .dataframe tbody tr th {\n",
       "        vertical-align: top;\n",
       "    }\n",
       "\n",
       "    .dataframe thead th {\n",
       "        text-align: right;\n",
       "    }\n",
       "</style>\n",
       "<table border=\"1\" class=\"dataframe\">\n",
       "  <thead>\n",
       "    <tr style=\"text-align: right;\">\n",
       "      <th></th>\n",
       "      <th>id</th>\n",
       "      <th>name</th>\n",
       "      <th>age</th>\n",
       "      <th>gender</th>\n",
       "      <th>about</th>\n",
       "      <th>photo</th>\n",
       "    </tr>\n",
       "  </thead>\n",
       "  <tbody>\n",
       "    <tr>\n",
       "      <th>0</th>\n",
       "      <td>1001</td>\n",
       "      <td>Аня</td>\n",
       "      <td>16</td>\n",
       "      <td>девушка</td>\n",
       "      <td>Часто читаю и люблю смотреть аниме</td>\n",
       "      <td>AgACAgIAAxkBAAIBZGho5NQrNMEXNgHWXPCsKHGR75nkAA...</td>\n",
       "    </tr>\n",
       "    <tr>\n",
       "      <th>1</th>\n",
       "      <td>1002</td>\n",
       "      <td>Макс</td>\n",
       "      <td>16</td>\n",
       "      <td>парень</td>\n",
       "      <td>Не знаю</td>\n",
       "      <td>AgACAgIAAxkBAAIBZGho5NQrNMEXNgHWXPCsKHGR75nkAA...</td>\n",
       "    </tr>\n",
       "    <tr>\n",
       "      <th>2</th>\n",
       "      <td>1003</td>\n",
       "      <td>Саша</td>\n",
       "      <td>15</td>\n",
       "      <td>девушка</td>\n",
       "      <td>Люблю читать книги и смотреть фильмы</td>\n",
       "      <td>AgACAgIAAxkBAAIBZGho5NQrNMEXNgHWXPCsKHGR75nkAA...</td>\n",
       "    </tr>\n",
       "    <tr>\n",
       "      <th>3</th>\n",
       "      <td>7773130966</td>\n",
       "      <td>Олег</td>\n",
       "      <td>15</td>\n",
       "      <td>парень</td>\n",
       "      <td>Не знаю</td>\n",
       "      <td>AgACAgIAAxkBAAIBZGho5NQrNMEXNgHWXPCsKHGR75nkAA...</td>\n",
       "    </tr>\n",
       "  </tbody>\n",
       "</table>\n",
       "</div>"
      ],
      "text/plain": [
       "           id  name  age   gender                                 about  \\\n",
       "0        1001   Аня   16  девушка    Часто читаю и люблю смотреть аниме   \n",
       "1        1002  Макс   16   парень                               Не знаю   \n",
       "2        1003  Саша   15  девушка  Люблю читать книги и смотреть фильмы   \n",
       "3  7773130966  Олег   15   парень                               Не знаю   \n",
       "\n",
       "                                               photo  \n",
       "0  AgACAgIAAxkBAAIBZGho5NQrNMEXNgHWXPCsKHGR75nkAA...  \n",
       "1  AgACAgIAAxkBAAIBZGho5NQrNMEXNgHWXPCsKHGR75nkAA...  \n",
       "2  AgACAgIAAxkBAAIBZGho5NQrNMEXNgHWXPCsKHGR75nkAA...  \n",
       "3  AgACAgIAAxkBAAIBZGho5NQrNMEXNgHWXPCsKHGR75nkAA...  "
      ]
     },
     "execution_count": 11,
     "metadata": {},
     "output_type": "execute_result"
    }
   ],
   "source": [
    "df.head()"
   ]
  },
  {
   "cell_type": "code",
   "execution_count": 12,
   "id": "3c3f6a10",
   "metadata": {},
   "outputs": [
    {
     "name": "stdout",
     "output_type": "stream",
     "text": [
      "<class 'pandas.core.frame.DataFrame'>\n",
      "RangeIndex: 4 entries, 0 to 3\n",
      "Data columns (total 6 columns):\n",
      " #   Column  Non-Null Count  Dtype \n",
      "---  ------  --------------  ----- \n",
      " 0   id      4 non-null      int64 \n",
      " 1   name    4 non-null      object\n",
      " 2   age     4 non-null      int64 \n",
      " 3   gender  4 non-null      object\n",
      " 4   about   4 non-null      object\n",
      " 5   photo   4 non-null      object\n",
      "dtypes: int64(2), object(4)\n",
      "memory usage: 324.0+ bytes\n"
     ]
    }
   ],
   "source": [
    "df.info()"
   ]
  },
  {
   "cell_type": "code",
   "execution_count": 13,
   "id": "1033863e",
   "metadata": {},
   "outputs": [
    {
     "data": {
      "text/plain": [
       "age\n",
       "16    2\n",
       "15    2\n",
       "Name: count, dtype: int64"
      ]
     },
     "execution_count": 13,
     "metadata": {},
     "output_type": "execute_result"
    }
   ],
   "source": [
    "df['age'].value_counts()"
   ]
  },
  {
   "cell_type": "code",
   "execution_count": 14,
   "id": "b8ca6fa3",
   "metadata": {},
   "outputs": [
    {
     "data": {
      "text/plain": [
       "gender\n",
       "девушка    2\n",
       "парень     2\n",
       "Name: count, dtype: int64"
      ]
     },
     "execution_count": 14,
     "metadata": {},
     "output_type": "execute_result"
    }
   ],
   "source": [
    "count = df['gender'].value_counts()\n",
    "count"
   ]
  },
  {
   "cell_type": "code",
   "execution_count": 15,
   "id": "f19b19b5",
   "metadata": {},
   "outputs": [
    {
     "data": {
      "image/png": "[encoded data removed]",
      "text/plain": [
       "<Figure size 640x480 with 1 Axes>"
      ]
     },
     "metadata": {},
     "output_type": "display_data"
    }
   ],
   "source": [
    "import matplotlib.pyplot as plt\n",
    "import seaborn as sns\n",
    "\n",
    "sns.set_style(\"whitegrid\")\n",
    "sns.countplot(data=df, x='gender', hue='gender',palette='muted', legend=True)\n",
    "\n",
    "plt.title(\"Распределение по полу\", fontsize=16)\n",
    "plt.xlabel(\"Пол\", fontsize=12)\n",
    "plt.ylabel(\"Количество\", fontsize=12)\n",
    "\n",
    "plt.show()"
   ]
  },
  {
   "cell_type": "code",
   "execution_count": 16,
   "id": "a4616929",
   "metadata": {},
   "outputs": [
    {
     "name": "stdout",
     "output_type": "stream",
     "text": [
      "          user_1   user_2    user_3\n",
      "user_1  1.000000  0.08242  0.104164\n",
      "user_2  0.082420  1.00000  0.082420\n",
      "user_3  0.104164  0.08242  1.000000\n"
     ]
    }
   ],
   "source": [
    "from sklearn.feature_extraction.text import TfidfVectorizer\n",
    "from sklearn.metrics.pairwise import cosine_similarity\n",
    "import pandas as pd\n",
    "\n",
    "texts_raw = [\n",
    "    \"Люблю программировать и футбол\",\n",
    "    \"Обожаю кино, прогулки и вечерние посиделки\",\n",
    "    \"Интересуюсь програмированием и киберспортом\"\n",
    "]\n",
    "\n",
    "# Просто передаём raw-тексты — без стемминга\n",
    "vectorizer = TfidfVectorizer(analyzer='word', token_pattern=r'\\b\\w+\\b')\n",
    "tfidf_matrix = vectorizer.fit_transform(texts_raw)\n",
    "\n",
    "similarity = cosine_similarity(tfidf_matrix)\n",
    "\n",
    "similarity_df = pd.DataFrame(similarity, index=[f\"user_{i}\" for i in range(1, 4)], columns=[f\"user_{i}\" for i in range(1, 4)])\n",
    "print(similarity_df)\n"
   ]
  }
 ],
 "metadata": {
  "kernelspec": {
   "display_name": "Python 3",
   "language": "python",
   "name": "python3"
  },
  "language_info": {
   "codemirror_mode": {
    "name": "ipython",
    "version": 3
   },
   "file_extension": ".py",
   "mimetype": "text/x-python",
   "name": "python",
   "nbconvert_exporter": "python",
   "pygments_lexer": "ipython3",
   "version": "3.12.7"
  }
 },
 "nbformat": 4,
 "nbformat_minor": 5
}
